{
 "cells": [
  {
   "cell_type": "markdown",
   "metadata": {},
   "source": [
    "# Homtask 1"
   ]
  },
  {
   "cell_type": "code",
   "execution_count": 1,
   "metadata": {},
   "outputs": [],
   "source": [
    "import torch"
   ]
  },
  {
   "cell_type": "code",
   "execution_count": 2,
   "metadata": {},
   "outputs": [
    {
     "data": {
      "text/plain": [
       "tensor([[[ 0.6438, -0.4044, -1.1353, -0.0344,  0.7094],\n",
       "         [ 0.1199,  0.1478, -2.1886,  0.4963,  1.4575],\n",
       "         [ 1.7417,  2.2704,  0.0502,  0.0717,  1.1102],\n",
       "         [ 1.3333, -0.5331, -2.0405,  0.4356, -0.5942]],\n",
       "\n",
       "        [[-0.9678,  0.2846, -1.7106, -0.0943, -0.7252],\n",
       "         [ 0.3364, -1.8796,  0.0110,  1.2617, -1.0446],\n",
       "         [-1.0571, -1.3342,  0.8713, -0.1107,  1.3191],\n",
       "         [-0.5701,  0.9426, -0.0308, -0.8096, -0.6101]],\n",
       "\n",
       "        [[-1.0052,  2.1515,  0.6131, -0.6270,  1.0544],\n",
       "         [ 0.1015, -0.8191,  1.8180,  0.5605,  0.5937],\n",
       "         [ 0.8655,  0.1122,  0.3517, -0.1296, -0.1176],\n",
       "         [ 0.6057,  0.0189,  1.3945,  1.0099,  0.3676]]])"
      ]
     },
     "execution_count": 2,
     "metadata": {},
     "output_type": "execute_result"
    }
   ],
   "source": [
    "# Создайте случайный FloatTensor размера 3x4x5\n",
    "a = torch.randn(3, 4, 5)\n",
    "a"
   ]
  },
  {
   "cell_type": "code",
   "execution_count": 3,
   "metadata": {},
   "outputs": [
    {
     "data": {
      "text/plain": [
       "torch.Size([3, 4, 5])"
      ]
     },
     "execution_count": 3,
     "metadata": {},
     "output_type": "execute_result"
    }
   ],
   "source": [
    "# Выведите его форму (shape)\n",
    "a.shape"
   ]
  },
  {
   "cell_type": "code",
   "execution_count": 4,
   "metadata": {},
   "outputs": [
    {
     "data": {
      "text/plain": [
       "torch.Size([6, 10])"
      ]
     },
     "execution_count": 4,
     "metadata": {},
     "output_type": "execute_result"
    }
   ],
   "source": [
    "# Приведите его к форме 6 X 10\n",
    "b = a.reshape((6, 10))\n",
    "b.shape"
   ]
  },
  {
   "cell_type": "code",
   "execution_count": 5,
   "metadata": {},
   "outputs": [
    {
     "data": {
      "text/plain": [
       "tensor([[ 0.6438, -0.4044, -1.1353, -0.0344,  0.7094,  0.1199,  0.1478, -2.1886,\n",
       "          0.4963,  1.4575],\n",
       "        [ 1.7417,  2.2704,  0.0502,  0.0717,  1.1102,  1.3333, -0.5331, -2.0405,\n",
       "          0.4356, -0.5942],\n",
       "        [-0.9678,  0.2846, -1.7106, -0.0943, -0.7252,  0.3364, -1.8796,  0.0110,\n",
       "          1.2617, -1.0446],\n",
       "        [-1.0571, -1.3342,  0.8713, -0.1107,  1.3191, -0.5701,  0.9426, -0.0308,\n",
       "         -0.8096, -0.6101],\n",
       "        [-1.0052,  2.1515,  0.6131, -0.6270,  1.0544,  0.1015, -0.8191,  1.8180,\n",
       "          0.5605,  0.5937],\n",
       "        [ 0.8655,  0.1122,  0.3517, -0.1296, -0.1176,  0.6057,  0.0189,  1.3945,\n",
       "          1.0099,  0.3676]])"
      ]
     },
     "execution_count": 5,
     "metadata": {},
     "output_type": "execute_result"
    }
   ],
   "source": [
    "b"
   ]
  },
  {
   "cell_type": "code",
   "execution_count": 14,
   "metadata": {},
   "outputs": [
    {
     "data": {
      "text/plain": [
       "tensor([[ 0.6438, -1.6176, -2.2707, -0.0688,  0.7094,  0.1199,  0.5913, -4.3772,\n",
       "          0.9925,  1.4575],\n",
       "        [ 1.7417,  9.0818,  0.1005,  0.1434,  1.1102,  1.3333, -2.1323, -4.0810,\n",
       "          0.8713, -0.5942],\n",
       "        [-0.9678,  1.1386, -3.4211, -0.1887, -0.7252,  0.3364, -7.5184,  0.0220,\n",
       "          2.5235, -1.0446],\n",
       "        [-1.0571, -5.3369,  1.7427, -0.2214,  1.3191, -0.5701,  3.7703, -0.0616,\n",
       "         -1.6192, -0.6101],\n",
       "        [-1.0052,  8.6059,  1.2262, -1.2541,  1.0544,  0.1015, -3.2766,  3.6360,\n",
       "          1.1210,  0.5937],\n",
       "        [ 0.8655,  0.4489,  0.7034, -0.2592, -0.1176,  0.6057,  0.0756,  2.7890,\n",
       "          2.0197,  0.3676]])"
      ]
     },
     "execution_count": 14,
     "metadata": {},
     "output_type": "execute_result"
    }
   ],
   "source": [
    "# Умножьте его на вектор [1, 4, 2, 2, 1] поэлементно\n",
    "b.reshape((-1, 5)).mul(torch.tensor([1, 4, 2, 2, 1])).reshape((6, 10))"
   ]
  },
  {
   "cell_type": "code",
   "execution_count": 16,
   "metadata": {},
   "outputs": [
    {
     "data": {
      "text/plain": [
       "tensor([[ 9.5683,  4.8283, -0.4652, -1.3432, -4.3878, -1.9061],\n",
       "        [ 4.8283, 16.1970,  0.6615, -4.5598,  1.0444, -0.1864],\n",
       "        [-0.4652,  0.6615, 10.8077, -4.1414,  1.5117, -0.2359],\n",
       "        [-1.3432, -4.5598, -4.1414,  7.6512, -1.5154, -2.3113],\n",
       "        [-4.3878,  1.0444,  1.5117, -1.5154, 12.1731,  2.9098],\n",
       "        [-1.9061, -0.1864, -0.2359, -2.3113,  2.9098,  4.3829]])"
      ]
     },
     "execution_count": 16,
     "metadata": {},
     "output_type": "execute_result"
    }
   ],
   "source": [
    "# Умножьте тензор матрично на себя, чтобы результат был размерности 6x6\n",
    "b.mm(b.T)"
   ]
  },
  {
   "cell_type": "code",
   "execution_count": 22,
   "metadata": {},
   "outputs": [
    {
     "data": {
      "text/plain": [
       "(tensor(3.),\n",
       " tensor(1.),\n",
       " tensor(-75.),\n",
       " tensor(-148.5000, grad_fn=<SubBackward0>))"
      ]
     },
     "execution_count": 22,
     "metadata": {},
     "output_type": "execute_result"
    }
   ],
   "source": [
    "# Посчитайте производную функции y = x**3 + z - 75t в точке (1, 0.5, 2)\n",
    "x = torch.tensor(1.0, requires_grad=True) \n",
    "z = torch.tensor(0.5, requires_grad=True)\n",
    "t = torch.tensor(2.0, requires_grad=True)\n",
    "y = x**3 + z - 75 * t\n",
    "\n",
    "y.backward()\n",
    "x.grad, z.grad, t.grad, y"
   ]
  },
  {
   "cell_type": "code",
   "execution_count": 23,
   "metadata": {},
   "outputs": [
    {
     "data": {
      "text/plain": [
       "tensor([[1., 1., 1., 1., 1., 1.],\n",
       "        [1., 1., 1., 1., 1., 1.],\n",
       "        [1., 1., 1., 1., 1., 1.],\n",
       "        [1., 1., 1., 1., 1., 1.],\n",
       "        [1., 1., 1., 1., 1., 1.]])"
      ]
     },
     "execution_count": 23,
     "metadata": {},
     "output_type": "execute_result"
    }
   ],
   "source": [
    "# Создайте единичный тензор размера 5x6\n",
    "c = torch.ones((5, 6))\n",
    "c"
   ]
  },
  {
   "cell_type": "code",
   "execution_count": 25,
   "metadata": {},
   "outputs": [
    {
     "data": {
      "text/plain": [
       "array([[1., 1., 1., 1., 1., 1.],\n",
       "       [1., 1., 1., 1., 1., 1.],\n",
       "       [1., 1., 1., 1., 1., 1.],\n",
       "       [1., 1., 1., 1., 1., 1.],\n",
       "       [1., 1., 1., 1., 1., 1.]], dtype=float32)"
      ]
     },
     "execution_count": 25,
     "metadata": {},
     "output_type": "execute_result"
    }
   ],
   "source": [
    "# Переведите его в формат numpy\n",
    "c.numpy()"
   ]
  },
  {
   "cell_type": "code",
   "execution_count": 67,
   "metadata": {},
   "outputs": [
    {
     "name": "stdout",
     "output_type": "stream",
     "text": [
      "tensor([0.3776], requires_grad=True) tensor([1.0164], requires_grad=True) tensor([5.0865])\n",
      "loss:  tensor(35.5675, grad_fn=<MseLossBackward0>)  \n",
      "loss_item : 35.56748580932617\n",
      "BEFORE:\n",
      " w:  Parameter containing:\n",
      "tensor([[-0.5022, -0.2458],\n",
      "        [ 0.0193, -0.6786]], requires_grad=True)\n",
      "b:  Parameter containing:\n",
      "tensor([-0.0736, -0.5381], requires_grad=True) \n",
      "\n",
      "AFTER:\n",
      "w:  Parameter containing:\n",
      "tensor([[-0.4811, -0.1889],\n",
      "        [ 0.0431, -0.6145]], requires_grad=True)\n",
      "b:  Parameter containing:\n",
      "tensor([-0.0176, -0.4751], requires_grad=True)\n"
     ]
    },
    {
     "name": "stderr",
     "output_type": "stream",
     "text": [
      "/tmp/ipykernel_278993/253412421.py:16: UserWarning: To copy construct from a tensor, it is recommended to use sourceTensor.clone().detach() or sourceTensor.clone().detach().requires_grad_(True), rather than torch.tensor(sourceTensor).\n",
      "  y = torch.tensor(x**w1 - 2 * x**2 + 5, requires_grad=False)\n"
     ]
    }
   ],
   "source": [
    "# Давайте теперь пооптимизируем: возьмите функцию y = x**w1 - 2 * x**2 + 5\n",
    "# Посчитайте\n",
    "\n",
    "import torch\n",
    "from torch import nn\n",
    "from torch import optim\n",
    "\n",
    "linear = nn.Linear(2, 2)\n",
    "\n",
    "criterion = nn.MSELoss()\n",
    "\n",
    "optimizer = torch.optim.SGD(linear.parameters(), lr=0.01)\n",
    "\n",
    "x = torch.randn(1, requires_grad=True)\n",
    "w1 = torch.randn(1, requires_grad=True)\n",
    "y = torch.tensor(x**w1 - 2 * x**2 + 5, requires_grad=False)\n",
    "\n",
    "print(x, w1, y)\n",
    "\n",
    "optimizer.zero_grad()\n",
    "\n",
    "pred = linear(torch.cat((x, w1)))\n",
    "\n",
    "loss = criterion(y, pred)\n",
    "print('loss: ', loss, ' \\nloss_item :', loss.item())\n",
    "\n",
    "loss.backward()\n",
    "\n",
    "# Веса до\n",
    "print('BEFORE:\\n','w: ', linear.weight)\n",
    "print('b: ', linear.bias, '\\n')\n",
    "\n",
    "# Делаем шаг оптимизатора\n",
    "optimizer.step()\n",
    "\n",
    "# Веса после\n",
    "print('AFTER:\\n''w: ', linear.weight)\n",
    "print('b: ', linear.bias)"
   ]
  },
  {
   "cell_type": "markdown",
   "metadata": {},
   "source": [
    "Из-за степени w1 не всегда может считаться, т.к. случайная величина. Можно заменить другим рандомом или просто проверять на значение."
   ]
  }
 ],
 "metadata": {
  "kernelspec": {
   "display_name": "Python 3 (ipykernel)",
   "language": "python",
   "name": "python3"
  },
  "language_info": {
   "codemirror_mode": {
    "name": "ipython",
    "version": 3
   },
   "file_extension": ".py",
   "mimetype": "text/x-python",
   "name": "python",
   "nbconvert_exporter": "python",
   "pygments_lexer": "ipython3",
   "version": "3.9.16"
  }
 },
 "nbformat": 4,
 "nbformat_minor": 2
}
